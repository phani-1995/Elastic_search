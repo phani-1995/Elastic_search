{
 "cells": [
  {
   "cell_type": "code",
   "execution_count": 1,
   "metadata": {
    "collapsed": true
   },
   "outputs": [],
   "source": [
    "from elasticsearch import Elasticsearch\n",
    "es = Elasticsearch([{'host': 'localhost', 'port': 9200}])"
   ]
  },
  {
   "cell_type": "code",
   "execution_count": 2,
   "metadata": {
    "collapsed": false
   },
   "outputs": [
    {
     "name": "stdout",
     "output_type": "stream",
     "text": [
      "{'took': 1, 'hits': {'total': {'value': 88, 'relation': 'eq'}, 'hits': [], 'max_score': None}, 'aggregations': {'avg_hours': {'value': 1571900894818.182, 'value_as_string': '2019-10-24T07:08:14.818Z'}}, 'timed_out': False, '_shards': {'failed': 0, 'total': 1, 'skipped': 0, 'successful': 1}}\n"
     ]
    }
   ],
   "source": [
    "#Finding average of working_hours\n",
    "\n",
    "res=es.search(index=\"cpu_logs\",\n",
    "              body={\"from\": 0, \"size\": 0, \"query\": {\"match_all\": {}}, \"aggs\": {\"avg_hours\":{\"avg\": {\"field\": \"working_hours\"}}}})\n",
    "print(res)"
   ]
  },
  {
   "cell_type": "code",
   "execution_count": 3,
   "metadata": {
    "collapsed": false
   },
   "outputs": [
    {
     "data": {
      "text/plain": [
       "{'_shards': {'failed': 0, 'skipped': 0, 'successful': 1, 'total': 1},\n",
       " 'hits': {'hits': [{'_id': 'U_e1XHIB46ZBmFqofM7E',\n",
       "    '_index': 'cpu_logs',\n",
       "    '_score': 1.0,\n",
       "    '_source': {'user_name': 'magadum.iranna@gmail.com'},\n",
       "    '_type': 'data'},\n",
       "   {'_id': 'VPe1XHIB46ZBmFqofM7E',\n",
       "    '_index': 'cpu_logs',\n",
       "    '_score': 1.0,\n",
       "    '_source': {'user_name': 'yathink3@gmail.com'},\n",
       "    '_type': 'data'},\n",
       "   {'_id': 'Vfe1XHIB46ZBmFqofM7F',\n",
       "    '_index': 'cpu_logs',\n",
       "    '_score': 1.0,\n",
       "    '_source': {'user_name': 'shelkeva@gmail.com'},\n",
       "    '_type': 'data'},\n",
       "   {'_id': 'Vve1XHIB46ZBmFqofM7F',\n",
       "    '_index': 'cpu_logs',\n",
       "    '_score': 1.0,\n",
       "    '_source': {'user_name': 'puruissimple@gmail.com'},\n",
       "    '_type': 'data'},\n",
       "   {'_id': 'V_e1XHIB46ZBmFqofM7F',\n",
       "    '_index': 'cpu_logs',\n",
       "    '_score': 1.0,\n",
       "    '_source': {'user_name': 'sangita.awaghad1987@gmail.com'},\n",
       "    '_type': 'data'},\n",
       "   {'_id': 'WPe1XHIB46ZBmFqofM7F',\n",
       "    '_index': 'cpu_logs',\n",
       "    '_score': 1.0,\n",
       "    '_source': {'user_name': 'vaishusawant143@gmail.com'},\n",
       "    '_type': 'data'},\n",
       "   {'_id': 'Wfe1XHIB46ZBmFqofM7F',\n",
       "    '_index': 'cpu_logs',\n",
       "    '_score': 1.0,\n",
       "    '_source': {'user_name': 'you@example.com'},\n",
       "    '_type': 'data'},\n",
       "   {'_id': 'Wve1XHIB46ZBmFqofM7F',\n",
       "    '_index': 'cpu_logs',\n",
       "    '_score': 1.0,\n",
       "    '_source': {'user_name': 'samadhanmahajan73@gmail.com'},\n",
       "    '_type': 'data'},\n",
       "   {'_id': 'XPe1XHIB46ZBmFqofM7F',\n",
       "    '_index': 'cpu_logs',\n",
       "    '_score': 1.0,\n",
       "    '_source': {'user_name': 'ashutoshrit64@gmail.com'},\n",
       "    '_type': 'data'},\n",
       "   {'_id': 'Xfe1XHIB46ZBmFqofM7F',\n",
       "    '_index': 'cpu_logs',\n",
       "    '_score': 1.0,\n",
       "    '_source': {'user_name': 'akshaybavalekar100@gmail.com'},\n",
       "    '_type': 'data'}],\n",
       "  'max_score': 1.0,\n",
       "  'total': {'relation': 'eq', 'value': 57}},\n",
       " 'timed_out': False,\n",
       " 'took': 17}"
      ]
     },
     "execution_count": 3,
     "metadata": {},
     "output_type": "execute_result"
    }
   ],
   "source": [
    "#finding higest avg hours\n",
    "es.search(index=\"cpu_logs\", body={\"_source\": [\"user_name\"], \"query\": {\"range\": {\"working_hours\": {\"gt\":\"2019-10-24T07:08:14.818Z\"}}}})"
   ]
  },
  {
   "cell_type": "code",
   "execution_count": null,
   "metadata": {
    "collapsed": true
   },
   "outputs": [],
   "source": []
  }
 ],
 "metadata": {
  "anaconda-cloud": {},
  "kernelspec": {
   "display_name": "Python [conda root]",
   "language": "python",
   "name": "conda-root-py"
  },
  "language_info": {
   "codemirror_mode": {
    "name": "ipython",
    "version": 3
   },
   "file_extension": ".py",
   "mimetype": "text/x-python",
   "name": "python",
   "nbconvert_exporter": "python",
   "pygments_lexer": "ipython3",
   "version": "3.5.2"
  }
 },
 "nbformat": 4,
 "nbformat_minor": 1
}
