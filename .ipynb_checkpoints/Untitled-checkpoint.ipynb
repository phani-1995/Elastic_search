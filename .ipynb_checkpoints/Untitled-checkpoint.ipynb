{
 "cells": [
  {
   "cell_type": "code",
   "execution_count": 1,
   "metadata": {
    "collapsed": false
   },
   "outputs": [
    {
     "name": "stdout",
     "output_type": "stream",
     "text": [
      "b'{\\n  \"name\" : \"elasticsearch\",\\n  \"cluster_name\" : \"elasticsearch\",\\n  \"cluster_uuid\" : \"mW3ZChiFRLKJsFcF9Idv-A\",\\n  \"version\" : {\\n    \"number\" : \"7.7.0\",\\n    \"build_flavor\" : \"default\",\\n    \"build_type\" : \"deb\",\\n    \"build_hash\" : \"81a1e9eda8e6183f5237786246f6dced26a10eaf\",\\n    \"build_date\" : \"2020-05-12T02:01:37.602180Z\",\\n    \"build_snapshot\" : false,\\n    \"lucene_version\" : \"8.5.1\",\\n    \"minimum_wire_compatibility_version\" : \"6.8.0\",\\n    \"minimum_index_compatibility_version\" : \"6.0.0-beta1\"\\n  },\\n  \"tagline\" : \"You Know, for Search\"\\n}\\n'\n"
     ]
    }
   ],
   "source": [
    "import requests\n",
    "res = requests.get('http://localhost:9200')\n",
    "print(res.content)"
   ]
  },
  {
   "cell_type": "code",
   "execution_count": 2,
   "metadata": {
    "collapsed": true
   },
   "outputs": [],
   "source": [
    "from elasticsearch import Elasticsearch\n",
    "es = Elasticsearch([{'host': 'localhost', 'port': 9200}])"
   ]
  },
  {
   "cell_type": "code",
   "execution_count": 3,
   "metadata": {
    "collapsed": false
   },
   "outputs": [],
   "source": [
    "# es.search(index=\"cpu_logs\", \n",
    "#          body={\"from\": 0, \"query\": {\"match_all\": {}}, \"aggr\": {\n",
    "#             \"user_name\": {\n",
    "#                 \"date_histogram\": {\"avg\": {\"field\": \"working_hours\"}}}}})"
   ]
  },
  {
   "cell_type": "code",
   "execution_count": null,
   "metadata": {
    "collapsed": false
   },
   "outputs": [],
   "source": []
  },
  {
   "cell_type": "code",
   "execution_count": 4,
   "metadata": {
    "collapsed": false
   },
   "outputs": [],
   "source": [
    "# es.indices.get_mapping(index=\"cpu_logs\", doc_type = \"logs\")"
   ]
  },
  {
   "cell_type": "code",
   "execution_count": 3,
   "metadata": {
    "collapsed": false
   },
   "outputs": [
    {
     "name": "stdout",
     "output_type": "stream",
     "text": [
      "{'_shards': {'failed': 0, 'skipped': 0, 'total': 1, 'successful': 1}, 'aggregations': {'user_name': {'buckets': [{'doc_count': 6, 'key_as_string': '2019-10-24T00:00:00.000Z', 'key': 1571875200000}, {'doc_count': 3, 'key_as_string': '2019-10-24T01:00:00.000Z', 'key': 1571878800000}, {'doc_count': 3, 'key_as_string': '2019-10-24T02:00:00.000Z', 'key': 1571882400000}, {'doc_count': 0, 'key_as_string': '2019-10-24T03:00:00.000Z', 'key': 1571886000000}, {'doc_count': 1, 'key_as_string': '2019-10-24T04:00:00.000Z', 'key': 1571889600000}, {'doc_count': 7, 'key_as_string': '2019-10-24T05:00:00.000Z', 'key': 1571893200000}, {'doc_count': 9, 'key_as_string': '2019-10-24T06:00:00.000Z', 'key': 1571896800000}, {'doc_count': 11, 'key_as_string': '2019-10-24T07:00:00.000Z', 'key': 1571900400000}, {'doc_count': 25, 'key_as_string': '2019-10-24T08:00:00.000Z', 'key': 1571904000000}, {'doc_count': 21, 'key_as_string': '2019-10-24T09:00:00.000Z', 'key': 1571907600000}, {'doc_count': 2, 'key_as_string': '2019-10-24T10:00:00.000Z', 'key': 1571911200000}]}}, 'took': 211, 'timed_out': False, 'hits': {'max_score': None, 'total': {'relation': 'eq', 'value': 88}, 'hits': []}}\n"
     ]
    },
    {
     "name": "stderr",
     "output_type": "stream",
     "text": [
      "/home/phanindrajallavaram/anaconda3/lib/python3.5/site-packages/ipykernel/__main__.py:4: ElasticsearchDeprecationWarning: [interval] on [date_histogram] is deprecated, use [fixed_interval] or [calendar_interval] in the future.\n"
     ]
    }
   ],
   "source": [
    "x=es.search(index=\"cpu_logs\",\n",
    "              body={\"from\": 0, \"size\": 0, \"query\": {\"match_all\": {}}, \"aggs\": {\n",
    "                  \"user_name\": {\n",
    "                      \"date_histogram\": {\"field\": \"working_hours\", \"interval\": \"hour\"}}}})\n",
    "print(x)"
   ]
  },
  {
   "cell_type": "code",
   "execution_count": 4,
   "metadata": {
    "collapsed": false
   },
   "outputs": [
    {
     "name": "stdout",
     "output_type": "stream",
     "text": [
      "{'_shards': {'failed': 0, 'skipped': 0, 'total': 1, 'successful': 1}, 'aggregations': {'avg_hours': {'value_as_string': '2019-10-24T07:08:14.818Z', 'value': 1571900894818.182}}, 'took': 11, 'timed_out': False, 'hits': {'max_score': None, 'total': {'relation': 'eq', 'value': 88}, 'hits': []}}\n"
     ]
    }
   ],
   "source": [
    "res=es.search(index=\"cpu_logs\",\n",
    "              body={\"from\": 0, \"size\": 0, \"query\": {\"match_all\": {}}, \"aggs\": {\"avg_hours\":{\"avg\": {\"field\": \"working_hours\"}}}})\n",
    "print(res)"
   ]
  },
  {
   "cell_type": "code",
   "execution_count": 5,
   "metadata": {
    "collapsed": false
   },
   "outputs": [],
   "source": [
    "# result= es.search(index=\"cpu_logs\", body={\"from\": 0,\"query\":{\"bool\":{\"filter\":[{\"match\": {\"user_name.working_hours\": {\"lt\": \"2019-10-24 07:08:14.818\"}}}]}}})\n",
    "# print(result)"
   ]
  },
  {
   "cell_type": "markdown",
   "metadata": {
    "collapsed": true
   },
   "source": []
  },
  {
   "cell_type": "code",
   "execution_count": 7,
   "metadata": {
    "collapsed": false
   },
   "outputs": [
    {
     "name": "stdout",
     "output_type": "stream",
     "text": [
      "{'_shards': {'failed': 0, 'skipped': 0, 'total': 1, 'successful': 1}, 'aggregations': {'group_by_user_name': {'buckets': [], 'doc_count_error_upper_bound': 0, 'sum_other_doc_count': 0}}, 'took': 9, 'timed_out': False, 'hits': {'max_score': None, 'total': {'relation': 'eq', 'value': 88}, 'hits': []}}\n"
     ]
    }
   ],
   "source": [
    "result=es.search(index=\"cpu_logs\", body={\"size\":0, \"aggs\": {\"group_by_user_name\": {\"terms\": {\"field\": \"username.keyword\"}, \"aggs\": {\"avg_hrs\": {\"avg\":{\"field\":\"working_hours\"}}}}}})\n",
    "print(result)\n",
    "      "
   ]
  },
  {
   "cell_type": "code",
   "execution_count": 6,
   "metadata": {
    "collapsed": false
   },
   "outputs": [],
   "source": [
    "# res1 = es.search(index=\"cpu_logs\", body={\"query\":{\"bool\":{\"must\": [{\"term\":{\"field\":\"user_name\"}}, \n",
    "#                                                                    {\"range\":{\"working_hours\":{\"lt\"<\"2019-10-24T07:08:14.818Z\"}}}]}}})"
   ]
  },
  {
   "cell_type": "code",
   "execution_count": 8,
   "metadata": {
    "collapsed": false
   },
   "outputs": [],
   "source": [
    "# es.search(index=\"cpu_logs\", body={\"query\":{\"bool\": {\"working_hours\": {\"lt\":\"2019-10-24T07:08:14.818Z\"}}, \"filter\":{\"field\":\"user_name\"}}}})"
   ]
  },
  {
   "cell_type": "raw",
   "metadata": {},
   "source": [
    "res3=es.search(index=\"cpu_logs\", body={\"query\": {\"match_phrase\": {\"field\":\"user_name\"}},\n",
    "                                       \"aggs\": {}})"
   ]
  },
  {
   "cell_type": "code",
   "execution_count": null,
   "metadata": {
    "collapsed": true
   },
   "outputs": [],
   "source": [
    " "
   ]
  }
 ],
 "metadata": {
  "anaconda-cloud": {},
  "kernelspec": {
   "display_name": "Python [default]",
   "language": "python",
   "name": "python3"
  },
  "language_info": {
   "codemirror_mode": {
    "name": "ipython",
    "version": 3
   },
   "file_extension": ".py",
   "mimetype": "text/x-python",
   "name": "python",
   "nbconvert_exporter": "python",
   "pygments_lexer": "ipython3",
   "version": "3.5.2"
  }
 },
 "nbformat": 4,
 "nbformat_minor": 1
}
