{
 "cells": [
  {
   "cell_type": "code",
   "execution_count": 1,
   "metadata": {
    "collapsed": true
   },
   "outputs": [],
   "source": [
    "from elasticsearch import Elasticsearch\n",
    "es = Elasticsearch([{'host': 'localhost', 'port': 9200}])"
   ]
  },
  {
   "cell_type": "code",
   "execution_count": 2,
   "metadata": {
    "collapsed": false
   },
   "outputs": [
    {
     "name": "stdout",
     "output_type": "stream",
     "text": [
      "{'_shards': {'skipped': 0, 'total': 1, 'successful': 1, 'failed': 0}, 'aggregations': {'avg_hours': {'value_as_string': '2019-10-24T02:01:52.500Z', 'value': 1571882512500.0}}, 'took': 2, 'hits': {'total': {'value': 88, 'relation': 'eq'}, 'hits': [], 'max_score': None}, 'timed_out': False}\n"
     ]
    }
   ],
   "source": [
    "#Finding avg of idle hours\n",
    "res=es.search(index=\"cpu_logs\",\n",
    "              body={\"from\": 0, \"size\": 0, \"query\": {\"match_all\": {}}, \"aggs\": {\"avg_hours\":{\"avg\": {\"field\": \"idle_time\"}}}})\n",
    "print(res)"
   ]
  },
  {
   "cell_type": "code",
   "execution_count": 3,
   "metadata": {
    "collapsed": false
   },
   "outputs": [
    {
     "data": {
      "text/plain": [
       "{'_shards': {'failed': 0, 'skipped': 0, 'successful': 1, 'total': 1},\n",
       " 'hits': {'hits': [{'_id': 'Uve1XHIB46ZBmFqofM64',\n",
       "    '_index': 'cpu_logs',\n",
       "    '_score': 1.0,\n",
       "    '_source': {'user_name': 'sahil24c@gmail.com'},\n",
       "    '_type': 'data'},\n",
       "   {'_id': 'U_e1XHIB46ZBmFqofM7E',\n",
       "    '_index': 'cpu_logs',\n",
       "    '_score': 1.0,\n",
       "    '_source': {'user_name': 'magadum.iranna@gmail.com'},\n",
       "    '_type': 'data'},\n",
       "   {'_id': 'Vve1XHIB46ZBmFqofM7F',\n",
       "    '_index': 'cpu_logs',\n",
       "    '_score': 1.0,\n",
       "    '_source': {'user_name': 'puruissimple@gmail.com'},\n",
       "    '_type': 'data'},\n",
       "   {'_id': 'Wfe1XHIB46ZBmFqofM7F',\n",
       "    '_index': 'cpu_logs',\n",
       "    '_score': 1.0,\n",
       "    '_source': {'user_name': 'you@example.com'},\n",
       "    '_type': 'data'},\n",
       "   {'_id': 'W_e1XHIB46ZBmFqofM7F',\n",
       "    '_index': 'cpu_logs',\n",
       "    '_score': 1.0,\n",
       "    '_source': {'user_name': 'vishnu23kumar@gmail.com'},\n",
       "    '_type': 'data'},\n",
       "   {'_id': 'Yfe1XHIB46ZBmFqofM7F',\n",
       "    '_index': 'cpu_logs',\n",
       "    '_score': 1.0,\n",
       "    '_source': {'user_name': 'narsimharaj.kasu01@gmail.com'},\n",
       "    '_type': 'data'},\n",
       "   {'_id': 'Zve1XHIB46ZBmFqofM7F',\n",
       "    '_index': 'cpu_logs',\n",
       "    '_score': 1.0,\n",
       "    '_source': {'user_name': 'sargampandey27oct@gmail.com'},\n",
       "    '_type': 'data'},\n",
       "   {'_id': 'Z_e1XHIB46ZBmFqofM7F',\n",
       "    '_index': 'cpu_logs',\n",
       "    '_score': 1.0,\n",
       "    '_source': {'user_name': 'ayush.saraf47@gmail.com'},\n",
       "    '_type': 'data'},\n",
       "   {'_id': 'aPe1XHIB46ZBmFqofM7F',\n",
       "    '_index': 'cpu_logs',\n",
       "    '_score': 1.0,\n",
       "    '_source': {'user_name': 'mr.kundare@gmail.com'},\n",
       "    '_type': 'data'},\n",
       "   {'_id': 'afe1XHIB46ZBmFqofM7F',\n",
       "    '_index': 'cpu_logs',\n",
       "    '_score': 1.0,\n",
       "    '_source': {'user_name': 'surajpj7852@gmail.com'},\n",
       "    '_type': 'data'}],\n",
       "  'max_score': 1.0,\n",
       "  'total': {'relation': 'eq', 'value': 27}},\n",
       " 'timed_out': False,\n",
       " 'took': 4}"
      ]
     },
     "execution_count": 3,
     "metadata": {},
     "output_type": "execute_result"
    }
   ],
   "source": [
    "es.search(index=\"cpu_logs\", body={\"_source\": [\"user_name\"], \"query\": {\"range\": {\"idle_time\": {\"gt\":\"2019-10-24T02:01:52.500Z\"}}}})"
   ]
  },
  {
   "cell_type": "code",
   "execution_count": null,
   "metadata": {
    "collapsed": true
   },
   "outputs": [],
   "source": []
  }
 ],
 "metadata": {
  "anaconda-cloud": {},
  "kernelspec": {
   "display_name": "Python [conda root]",
   "language": "python",
   "name": "conda-root-py"
  },
  "language_info": {
   "codemirror_mode": {
    "name": "ipython",
    "version": 3
   },
   "file_extension": ".py",
   "mimetype": "text/x-python",
   "name": "python",
   "nbconvert_exporter": "python",
   "pygments_lexer": "ipython3",
   "version": "3.5.2"
  }
 },
 "nbformat": 4,
 "nbformat_minor": 1
}
