{
 "cells": [
  {
   "cell_type": "code",
   "execution_count": 1,
   "metadata": {
    "collapsed": true
   },
   "outputs": [],
   "source": [
    "from elasticsearch import Elasticsearch\n",
    "es = Elasticsearch([{'host': 'localhost', 'port': 9200}])"
   ]
  },
  {
   "cell_type": "code",
   "execution_count": 5,
   "metadata": {
    "collapsed": false
   },
   "outputs": [
    {
     "data": {
      "text/plain": [
       "{'_shards': {'failed': 0, 'skipped': 0, 'successful': 1, 'total': 1},\n",
       " 'hits': {'hits': [{'_id': 'cfe1XHIB46ZBmFqofM7F',\n",
       "    '_index': 'cpu_logs',\n",
       "    '_score': 1.0,\n",
       "    '_source': {'user_name': 'prathameshsalap@gmail.com'},\n",
       "    '_type': 'data'},\n",
       "   {'_id': 'cve1XHIB46ZBmFqofM7F',\n",
       "    '_index': 'cpu_logs',\n",
       "    '_score': 1.0,\n",
       "    '_source': {'user_name': 'â€œshivnajalisangale5456@gmail.com'},\n",
       "    '_type': 'data'},\n",
       "   {'_id': 'c_e1XHIB46ZBmFqofM7F',\n",
       "    '_index': 'cpu_logs',\n",
       "    '_score': 1.0,\n",
       "    '_source': {'user_name': 'bhiogadepriyanka93@gmail.com'},\n",
       "    '_type': 'data'},\n",
       "   {'_id': 'dve1XHIB46ZBmFqofM7F',\n",
       "    '_index': 'cpu_logs',\n",
       "    '_score': 1.0,\n",
       "    '_source': {'user_name': 'rr582619@gmail.con'},\n",
       "    '_type': 'data'},\n",
       "   {'_id': 'd_e1XHIB46ZBmFqofM7F',\n",
       "    '_index': 'cpu_logs',\n",
       "    '_score': 1.0,\n",
       "    '_source': {'user_name': 'addyp1911@gmail.com'},\n",
       "    '_type': 'data'},\n",
       "   {'_id': 'ePe1XHIB46ZBmFqofM7F',\n",
       "    '_index': 'cpu_logs',\n",
       "    '_score': 1.0,\n",
       "    '_source': {'user_name': 'rohitsarate1027@gmail.com'},\n",
       "    '_type': 'data'},\n",
       "   {'_id': 'efe1XHIB46ZBmFqofM7F',\n",
       "    '_index': 'cpu_logs',\n",
       "    '_score': 1.0,\n",
       "    '_source': {'user_name': 'dipakalagate1991@gmail.com'},\n",
       "    '_type': 'data'},\n",
       "   {'_id': 'eve1XHIB46ZBmFqofM7F',\n",
       "    '_index': 'cpu_logs',\n",
       "    '_score': 1.0,\n",
       "    '_source': {'user_name': 'shibadattanayak@gmail.com'},\n",
       "    '_type': 'data'},\n",
       "   {'_id': 'e_e1XHIB46ZBmFqofM7F',\n",
       "    '_index': 'cpu_logs',\n",
       "    '_score': 1.0,\n",
       "    '_source': {'user_name': 'pradeepbamin5@gmail.com'},\n",
       "    '_type': 'data'},\n",
       "   {'_id': 'fPe1XHIB46ZBmFqofM7F',\n",
       "    '_index': 'cpu_logs',\n",
       "    '_score': 1.0,\n",
       "    '_source': {'user_name': 'durganath123@outlook.com'},\n",
       "    '_type': 'data'}],\n",
       "  'max_score': 1.0,\n",
       "  'total': {'relation': 'eq', 'value': 54}},\n",
       " 'timed_out': False,\n",
       " 'took': 9}"
      ]
     },
     "execution_count": 5,
     "metadata": {},
     "output_type": "execute_result"
    }
   ],
   "source": [
    "#Finding the late_commers those who came after 09:30 AM \n",
    "es.search(index=\"cpu_logs\", body={\"_source\": [\"user_name\"], \"query\": {\"range\": {\"start_time\": {\"gt\":\"2019-10-24T09:30:00.818Z\"}}}})"
   ]
  },
  {
   "cell_type": "code",
   "execution_count": null,
   "metadata": {
    "collapsed": true
   },
   "outputs": [],
   "source": []
  }
 ],
 "metadata": {
  "kernelspec": {
   "display_name": "Python [conda root]",
   "language": "python",
   "name": "conda-root-py"
  },
  "language_info": {
   "codemirror_mode": {
    "name": "ipython",
    "version": 3
   },
   "file_extension": ".py",
   "mimetype": "text/x-python",
   "name": "python",
   "nbconvert_exporter": "python",
   "pygments_lexer": "ipython3",
   "version": "3.5.2"
  }
 },
 "nbformat": 4,
 "nbformat_minor": 1
}
